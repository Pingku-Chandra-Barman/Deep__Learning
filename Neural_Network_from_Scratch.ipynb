{
 "cells": [
  {
   "cell_type": "code",
   "execution_count": 1,
   "id": "f5e5a4f7-f4fe-4ba0-bb44-c889bf2c81d1",
   "metadata": {},
   "outputs": [],
   "source": [
    "import tensorflow as tf\n",
    "import numpy as np\n",
    "import matplotlib.pyplot as plt\n",
    "\n",
    "import warnings\n",
    "warnings.filterwarnings('ignore')\n",
    "%matplotlib inline"
   ]
  },
  {
   "cell_type": "code",
   "execution_count": 2,
   "id": "5a997817-dd67-4dde-8773-cdab3f3ffaf5",
   "metadata": {},
   "outputs": [],
   "source": [
    "class NeuralNetwork:\n",
    "    def __init__(self, layers):\n",
    "        self.layers = layers\n",
    "        self.L = len(layers)\n",
    "        \n",
    "        self.number_feature = layers[0]\n",
    "        self.number_class = layers[-1]\n",
    "        \n",
    "        self.W = {}\n",
    "        self.b = {}\n",
    "        \n",
    "        self.dw = {}\n",
    "        self.db = {}\n",
    "        \n",
    "        self.setup()\n",
    "        \n",
    "    def setup(self):\n",
    "        for i in range(1, self.L):\n",
    "            self.W[i] = tf.Variable(tf.random.normal(shape = (self.layers[i], self.layers[i-1])))\n",
    "            self.b[i] = tf.Variable(tf.random.normal(shape = (self.layers[i], 1)))"
   ]
  },
  {
   "cell_type": "code",
   "execution_count": 3,
   "id": "db43dab9-fadb-4936-95d0-1f046313d627",
   "metadata": {},
   "outputs": [],
   "source": [
    "#Forward propagation\n",
    "class NeuralNetwork(NeuralNetwork):\n",
    "    def forwardPass(self, A):\n",
    "        A = tf.convert_to_tensor(A, dtype=float32)\n",
    "        for i in range(1, self.L):\n",
    "            Z = tf.matmul(A, tf.transpose(self.W[i])) + tf.transpose(self.b[i])\n",
    "            if i!= self.L-1:\n",
    "                A = tf.nn.relu(Z)\n",
    "            else:\n",
    "                A = Z\n",
    "        return A"
   ]
  },
  {
   "cell_type": "code",
   "execution_count": 4,
   "id": "071eae38-1ea0-4eda-8d1f-e0311a67105c",
   "metadata": {},
   "outputs": [],
   "source": [
    "#We will use this section to calculate loss function and upgrading the previous parameters\n",
    "class NeuralNetwork(NeuralNetwork):\n",
    "    def compute_loss(self, A, Y):\n",
    "        return tf.reduce_mean(tf.nn.softmax_cross_entropy_with_logits(Y, A))\n",
    "    \n",
    "    def upgrade_parameters(self, lr):\n",
    "        for i in range(1, self.L):\n",
    "            self.W[i].assing_sub(lr*self.dw[i])\n",
    "            self.b[i].assing_sub(lr*self.db[i])\n",
    "            "
   ]
  },
  {
   "cell_type": "code",
   "execution_count": 5,
   "id": "72cc7acd-edfd-4913-aa87-65b08eca3a9e",
   "metadata": {},
   "outputs": [],
   "source": [
    "class NeuralNetwork(NeuralNetwork):\n",
    "    def predict(self, x):\n",
    "        A = self.forwardPass(x)\n",
    "        return tf.argmax(tf.nn.softmax(A), axis = 1)\n",
    "    \n",
    "    def info(self):\n",
    "        num_params = 0\n",
    "        for i in range(1, self.L):\n",
    "            num_params += self.W[i].shape[0] * self.W[i].shape[1]\n",
    "            num_params += self.b[i].shape[0]\n",
    "        \n",
    "        print (\"Number of feature: {}\".format(self.number_feature))\n",
    "        print (\"Total number of class is: {}\".format(self.number_class))\n",
    "        \n",
    "        print (\"Hidden layer information is: \")\n",
    "        for i in range(1, self.L-1):\n",
    "            print(\"Layer: {}, Units: {}\".format(i, self.layers[i]))\n",
    "        \n",
    "        print(\"Total number of parameters: {}\".format(num_params))\n",
    "            "
   ]
  },
  {
   "cell_type": "code",
   "execution_count": 6,
   "id": "8495182c",
   "metadata": {},
   "outputs": [],
   "source": [
    "class NeuralNetwork(NeuralNetwork):\n",
    "    def training_on_batch(self,x,y,lr):\n",
    "        x= tf.convert_to_tensor(x,dtype= tf.folat32)\n",
    "        y= tf.convert_to_tensor(y,dtype= tf.folat32)\n",
    "        \n",
    "        \n",
    "        with tf.GradientTape(persistent= True) as tape:\n",
    "            A =self.forwardPass(x)\n",
    "            loss= self.compute_loss(A,y)\n",
    "            \n",
    "        for key in self.w.keys():\n",
    "            self.dw[key] = tape.gradient(loss,self.w[key])\n",
    "            self.db[key] = tape.gradient(loss,self.b[key])\n",
    "            \n",
    "        del tape\n",
    "        \n",
    "        self.upgrade_parameters(lr)\n",
    "        \n",
    "        return loss.numpy()"
   ]
  },
  {
   "cell_type": "code",
   "execution_count": 7,
   "id": "b3817953",
   "metadata": {},
   "outputs": [],
   "source": [
    "#Training \n",
    "class NeuralNetwork(NeuralNetwork):\n",
    "    def train(self,x_train,y_train,x_test,y_test,epochs,step_per_epochs,batch_size,lr):\n",
    "        history={\n",
    "            'val_loss'  :[],\n",
    "            'train_loss':[],\n",
    "            'val_acc'   :[]\n",
    "            \n",
    "        }\n",
    "        \n",
    "        \n",
    "        \n",
    "        for e in range(0,epochs):\n",
    "            training_loss_epochs =0.0\n",
    "            print('Epochs {}'.format(e),end='|')\n",
    "            for i in range(step_per_epochs):\n",
    "                x_batch    = x_train[i + batch_size : (i+1)*batch_size]\n",
    "                y_batch    = y_train[i + batch_size : (i+1)*batch_size]\n",
    "                batch_loss = self.training_on_batch(x_batch,y_batch,lr)\n",
    "                epochs_loss_trin += batch_loss\n",
    "                \n",
    "                \n",
    "                if i %int(step_per_epochs/10) == 0:\n",
    "                    print(end= ',')\n",
    "                    \n",
    "            history['train_loss'].append(epochs_loss_trin/step_per_epochs)\n",
    "            \n",
    "            valA =self.forwardPass(x_test)\n",
    "            history['val_loss'].append(self.compute_loss(y_test,valA.numpy))\n",
    "            \n",
    "            valuePr= self.predictdictdictredict(x_test)\n",
    "            history['val_acc'].append(np.mean(np.argmax(y_test,axis=1)== valuePr.numpy))\n",
    "            print('Value Accuracy: ',history['val_acc'][-1])\n",
    "        \n",
    "        return history    "
   ]
  },
  {
   "cell_type": "code",
   "execution_count": 8,
   "id": "bea717ad",
   "metadata": {},
   "outputs": [],
   "source": [
    "def loadDatasets():\n",
    "    (x_train,y_train),(x_test,y_test) = tf.keras.datasets.mnist.load_data()\n",
    "    x_train = np.reshape(x_train,(x_train.shape[0],784))/255.0\n",
    "    y_train = tf.keras.utils.to_categorical(y_train)\n",
    "    x_test  = np.reshape(x_test,(x_test.shape[0],784))/255.0\n",
    "    y_test  = tf.keras.utils.to_categorical(y_test)\n",
    "    \n",
    "    print('X Trian Datasets Shape: {}'.format(x_train.shape))\n",
    "    print('Y Test Data {}'.format(y_test))\n",
    "    \n",
    "    \n",
    "    return (x_train,y_train),(x_test,y_test)\n",
    "\n",
    "def plot_random_sample(x,y, p=None):\n",
    "    indicies = np.random.choice(range(0, x.shape[0]),10)\n",
    "    y=np.argmax(y,axis= 1)\n",
    "    \n",
    "    \n",
    "    if p is None:\n",
    "        p=y\n",
    "    \n",
    "    plt.figure(figsize=(10,4))\n",
    "    for i, index in enumerate(indicies):\n",
    "        plt.subplot(2,5, i+1)\n",
    "        plt.imshow(x[index].reshape((28,28)),cmap ='binary')\n",
    "        plt.xticks([])\n",
    "        plt.yticks([])\n",
    "        plt.gray()\n",
    "        \n",
    "        \n",
    "        if y[index] == p[index]:\n",
    "            col = 'g'\n",
    "        else:\n",
    "            col = 'r'\n",
    "        plt.xlabel(str(p[index]),color= col)\n",
    "        \n",
    "    return plt"
   ]
  },
  {
   "cell_type": "code",
   "execution_count": 9,
   "id": "40cde952",
   "metadata": {},
   "outputs": [
    {
     "name": "stdout",
     "output_type": "stream",
     "text": [
      "X Trian Datasets Shape: (60000, 784)\n",
      "Y Test Data [[0. 0. 0. ... 1. 0. 0.]\n",
      " [0. 0. 1. ... 0. 0. 0.]\n",
      " [0. 1. 0. ... 0. 0. 0.]\n",
      " ...\n",
      " [0. 0. 0. ... 0. 0. 0.]\n",
      " [0. 0. 0. ... 0. 0. 0.]\n",
      " [0. 0. 0. ... 0. 0. 0.]]\n"
     ]
    }
   ],
   "source": [
    "(x_train,y_train),(x_test,y_test)=loadDatasets()"
   ]
  },
  {
   "cell_type": "code",
   "execution_count": 10,
   "id": "0ede9fc9",
   "metadata": {},
   "outputs": [
    {
     "data": {
      "image/png": "[encoded data removed]",
      "text/plain": [
       "<Figure size 1000x400 with 10 Axes>"
      ]
     },
     "metadata": {},
     "output_type": "display_data"
    }
   ],
   "source": [
    "plot_random_sample(x_train,y_train).show()"
   ]
  },
  {
   "cell_type": "code",
   "execution_count": null,
   "id": "4501e489",
   "metadata": {},
   "outputs": [],
   "source": []
  },
  {
   "cell_type": "code",
   "execution_count": null,
   "id": "23239a71",
   "metadata": {},
   "outputs": [],
   "source": []
  }
 ],
 "metadata": {
  "kernelspec": {
   "display_name": "Python 3 (ipykernel)",
   "language": "python",
   "name": "python3"
  },
  "language_info": {
   "codemirror_mode": {
    "name": "ipython",
    "version": 3
   },
   "file_extension": ".py",
   "mimetype": "text/x-python",
   "name": "python",
   "nbconvert_exporter": "python",
   "pygments_lexer": "ipython3",
   "version": "3.9.13"
  }
 },
 "nbformat": 4,
 "nbformat_minor": 5
}
